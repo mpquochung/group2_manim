{
 "cells": [
  {
   "cell_type": "code",
   "execution_count": 1,
   "metadata": {},
   "outputs": [
    {
     "data": {
      "text/html": [
       "<pre style=\"white-space:pre;overflow-x:auto;line-height:normal;font-family:Menlo,'DejaVu Sans Mono',consolas,'Courier New',monospace\">Manim Community <span style=\"color: #008000; text-decoration-color: #008000\">v0.17.3</span>\n",
       "\n",
       "</pre>\n"
      ],
      "text/plain": [
       "Manim Community \u001b[32mv0.\u001b[0m\u001b[32m17.3\u001b[0m\n",
       "\n"
      ]
     },
     "metadata": {},
     "output_type": "display_data"
    }
   ],
   "source": [
    "from manim import *\n",
    "import random\n",
    "import math"
   ]
  },
  {
   "cell_type": "code",
   "execution_count": 2,
   "metadata": {},
   "outputs": [],
   "source": [
    "import numpy as np \n",
    "import math \n",
    "config.media_width = \"70%\"\n",
    "config.verbosity = \"WARNING\""
   ]
  },
  {
   "cell_type": "code",
   "execution_count": 3,
   "metadata": {},
   "outputs": [
    {
     "name": "stderr",
     "output_type": "stream",
     "text": [
      "                                                                                            \r"
     ]
    },
    {
     "data": {
      "text/html": [
       "<video src=\"media\\jupyter\\AdjustMu@2023-11-12@23-19-44.mp4\" controls autoplay loop style=\"max-width: 70%;\"  >\n",
       "      Your browser does not support the <code>video</code> element.\n",
       "    </video>"
      ],
      "text/plain": [
       "<IPython.core.display.Video object>"
      ]
     },
     "metadata": {},
     "output_type": "display_data"
    }
   ],
   "source": [
    "%%manim -qm AdjustMu\n",
    "\n",
    "def PDF_normal(x,mu,sigma): \n",
    "    return math.exp(-((x-mu)**2)/(2*sigma**2))/(sigma*math.sqrt(2*math.pi))\n",
    "\n",
    "class AdjustMu(Scene):\n",
    "\n",
    "    def construct(self):\n",
    "        ax = Axes(\n",
    "            x_range = [-5, 5, 1],\n",
    "            y_range = [0, 0.5, 0.1],\n",
    "            axis_config = {'include_numbers':True}\n",
    "        )\n",
    "\n",
    "        # Initialize mu (distribution mean) ValueTracker to 0\n",
    "        mu = ValueTracker(0)\n",
    "\n",
    "        # Text to display distrubtion mean\n",
    "        mu_text = MathTex(r'\\mu = ').next_to(ax, UP, buff=0.3).set_color(PINK)\n",
    "        # Always redraw the decimal value for mu for each frame\n",
    "        mu_value_text = always_redraw(\n",
    "            lambda: DecimalNumber(num_decimal_places=2)\n",
    "            .set_value(mu.get_value())\n",
    "            .next_to(mu_text, RIGHT, buff=0.3)\n",
    "            .set_color(PINK)\n",
    "        )\n",
    "\n",
    "        # Define PDF curve, always redraw for each frame\n",
    "        curve = always_redraw(\n",
    "            lambda: ax.plot(\n",
    "                lambda x: PDF_normal(x, mu.get_value(), 1), color=PINK)\n",
    "        )\n",
    "\n",
    "        # Start animation\n",
    "        self.add(ax, mu_text, mu_value_text)\n",
    "        self.play(Create(curve))\n",
    "        self.play(\n",
    "            mu.animate.set_value(2), run_time=1,\n",
    "            rate_func=rate_functions.smooth\n",
    "        )\n",
    "        self.wait()\n",
    "        self.play(\n",
    "            mu.animate.set_value(-2), run_time=1.5,\n",
    "            rate_func=rate_functions.smooth\n",
    "        )\n",
    "        self.wait()\n",
    "        self.play(\n",
    "            mu.animate.set_value(0), run_time=1,\n",
    "            rate_func=rate_functions.smooth\n",
    "        )\n",
    "        self.play(Uncreate(curve))\n",
    "\n"
   ]
  },
  {
   "cell_type": "code",
   "execution_count": 3,
   "metadata": {},
   "outputs": [],
   "source": [
    "import pandas as pd \n"
   ]
  },
  {
   "cell_type": "code",
   "execution_count": 5,
   "metadata": {},
   "outputs": [
    {
     "name": "stderr",
     "output_type": "stream",
     "text": [
      "                                                                                            \r"
     ]
    },
    {
     "data": {
      "text/html": [
       "<video src=\"media\\jupyter\\AdjustSigma@2023-11-12@23-25-08.mp4\" controls autoplay loop style=\"max-width: 70%;\"  >\n",
       "      Your browser does not support the <code>video</code> element.\n",
       "    </video>"
      ],
      "text/plain": [
       "<IPython.core.display.Video object>"
      ]
     },
     "metadata": {},
     "output_type": "display_data"
    }
   ],
   "source": [
    "%%manim -qm AdjustSigma\n",
    "\n",
    "def PDF_normal(x,mu,sigma): \n",
    "    return math.exp(-((x-mu)**2)/(2*sigma**2))/(sigma*math.sqrt(2*math.pi))\n",
    "\n",
    "class AdjustSigma(Scene):\n",
    "\n",
    "    def construct(self):\n",
    "        ax = Axes(\n",
    "            x_range = [-4, 4, 1],\n",
    "            y_range = [0, 1, 0.2],\n",
    "            axis_config = {'include_numbers':True}\n",
    "        )\n",
    "\n",
    "        # Initialize sigma (distribution standard deviation) ValueTracker to 1\n",
    "        sigma = ValueTracker(1)\n",
    "\n",
    "        # Text to display distrubtion standard deviation\n",
    "        sigma_text = MathTex(r'\\sigma = ').next_to(ax, UP, buff=0.2).set_color(PINK)\n",
    "        # Always redraw the decimal value for sigma for each frame\n",
    "        sigma_value_text = always_redraw(\n",
    "            lambda: DecimalNumber(num_decimal_places=2)\n",
    "            .set_value(sigma.get_value())\n",
    "            .next_to(sigma_text, RIGHT, buff=0.3)\n",
    "            .set_color(PINK)\n",
    "        )\n",
    "\n",
    "        # Define PDF curve, always redraw for each frame\n",
    "        curve = always_redraw(\n",
    "            lambda: ax.plot(\n",
    "                lambda x: PDF_normal(x, 0, sigma.get_value()), color=PINK)\n",
    "        )\n",
    "\n",
    "        # Start animation\n",
    "        self.add(ax, sigma_text, sigma_value_text)\n",
    "        self.play(Create(curve))\n",
    "        self.play(\n",
    "            sigma.animate.set_value(1.5), run_time=1,\n",
    "            rate_func=rate_functions.smooth\n",
    "        )\n",
    "        self.wait()\n",
    "        self.play(\n",
    "            sigma.animate.set_value(0.5), run_time=1.5,\n",
    "            rate_func=rate_functions.smooth\n",
    "        )\n",
    "        self.wait()\n",
    "        self.play(\n",
    "            sigma.animate.set_value(1), run_time=1.25,\n",
    "            rate_func=rate_functions.smooth\n",
    "        )\n",
    "        self.play(Uncreate(curve))"
   ]
  },
  {
   "cell_type": "code",
   "execution_count": 6,
   "metadata": {},
   "outputs": [
    {
     "name": "stderr",
     "output_type": "stream",
     "text": [
      "                                                                                                                                                    \r"
     ]
    },
    {
     "data": {
      "text/html": [
       "<video src=\"media\\jupyter\\showing_formula@2023-11-12@23-25-25.mp4\" controls autoplay loop style=\"max-width: 70%;\"  >\n",
       "      Your browser does not support the <code>video</code> element.\n",
       "    </video>"
      ],
      "text/plain": [
       "<IPython.core.display.Video object>"
      ]
     },
     "metadata": {},
     "output_type": "display_data"
    }
   ],
   "source": [
    "%%manim -qm showing_formula\n",
    "\n",
    "class showing_formula(Scene): \n",
    "    def construct(self): \n",
    "        dist = MathTex(r'\\bar{X} \\sim N \\left ( \\mu_{x}, \\frac{\\sigma_{x}}{\\sqrt{n}} \\right )', color=PINK, font_size =120)\n",
    "        z_score = MathTex(r'z = \\frac{\\bar{x}- \\mu_{x}}{\\frac{\\sigma_{x}}{\\sqrt{n}}}', color=PINK, font_size = 120)\n",
    "        text = Text(\"The formula for central limit theorem\", color= LIGHT_PINK, font_size=44)\n",
    "        self.play(Write(text), runtime=2)\n",
    "        self.wait(1.5)\n",
    "        self.play(FadeOut(text))\n",
    "\n",
    "        self.play(Write(dist), runtime=2)\n",
    "        self.wait(1.5)\n",
    "        self.play(FadeOut(dist))\n",
    "\n",
    "        self.play(Write(z_score), runtime=2)\n",
    "        self.wait(1.5)\n",
    "        self.play(FadeOut(z_score))\n",
    "\n",
    "\n",
    "\n",
    "\n",
    "                "
   ]
  },
  {
   "cell_type": "code",
   "execution_count": 4,
   "metadata": {},
   "outputs": [],
   "source": [
    "# Create dices \n",
    "def create_dice(count: int,size: float,radius: float,color_dice: color = WHITE, color_circle: color = BLACK,) -> VGroup:\n",
    "    dice = VGroup()\n",
    "    dice_shape = RoundedRectangle(\n",
    "        width=size,\n",
    "        height=size,\n",
    "        corner_radius=radius,\n",
    "        color=BLACK,\n",
    "        fill_color=color_dice,\n",
    "        fill_opacity=1,\n",
    "    )\n",
    "    dot_dice = [\n",
    "        Circle(\n",
    "            radius=size / 12, stroke_width=0, fill_color=color_circle, fill_opacity=1\n",
    "        )\n",
    "        for _ in range(count)\n",
    "    ]\n",
    "    dice.add(dice_shape, *dot_dice)\n",
    "\n",
    "    match count:\n",
    "        case 1:\n",
    "            dot_dice[0].move_to(dice_shape.get_center())\n",
    "        case 2:\n",
    "            dot_dice[0].move_to(\n",
    "                0.5\n",
    "                * (\n",
    "                    dice_shape.get_center()\n",
    "                    + dice_shape.get_left()\n",
    "                    + dice_shape.get_bottom()\n",
    "                )\n",
    "            )\n",
    "            dot_dice[1].move_to(\n",
    "                0.5\n",
    "                * (\n",
    "                    dice_shape.get_center()\n",
    "                    + dice_shape.get_right()\n",
    "                    + dice_shape.get_top()\n",
    "                )\n",
    "            )\n",
    "        case 3:\n",
    "            dot_dice[0].move_to(dice_shape.get_center())\n",
    "            dot_dice[1].move_to(\n",
    "                0.5\n",
    "                * (\n",
    "                    dice_shape.get_center()\n",
    "                    + dice_shape.get_left()\n",
    "                    + dice_shape.get_bottom()\n",
    "                )\n",
    "            )\n",
    "            dot_dice[2].move_to(\n",
    "                0.5\n",
    "                * (\n",
    "                    dice_shape.get_center()\n",
    "                    + dice_shape.get_right()\n",
    "                    + dice_shape.get_top()\n",
    "                )\n",
    "            )\n",
    "        case 4:\n",
    "            dot_dice[0].move_to(\n",
    "                0.5\n",
    "                * (\n",
    "                    dice_shape.get_center()\n",
    "                    + dice_shape.get_left()\n",
    "                    + dice_shape.get_top()\n",
    "                )\n",
    "            )\n",
    "            dot_dice[1].move_to(\n",
    "                0.5\n",
    "                * (\n",
    "                    dice_shape.get_center()\n",
    "                    + dice_shape.get_right()\n",
    "                    + dice_shape.get_top()\n",
    "                )\n",
    "            )\n",
    "            dot_dice[2].move_to(\n",
    "                0.5\n",
    "                * (\n",
    "                    dice_shape.get_center()\n",
    "                    + dice_shape.get_left()\n",
    "                    + dice_shape.get_bottom()\n",
    "                )\n",
    "            )\n",
    "            dot_dice[3].move_to(\n",
    "                0.5\n",
    "                * (\n",
    "                    dice_shape.get_center()\n",
    "                    + dice_shape.get_right()\n",
    "                    + dice_shape.get_bottom()\n",
    "                )\n",
    "            )\n",
    "        case 5:\n",
    "            dot_dice[0].move_to(dice_shape.get_center())\n",
    "            dot_dice[1].move_to(\n",
    "                0.5\n",
    "                * (\n",
    "                    dice_shape.get_center()\n",
    "                    + dice_shape.get_left()\n",
    "                    + dice_shape.get_top()\n",
    "                )\n",
    "            )\n",
    "            dot_dice[2].move_to(\n",
    "                0.5\n",
    "                * (\n",
    "                    dice_shape.get_center()\n",
    "                    + dice_shape.get_right()\n",
    "                    + dice_shape.get_top()\n",
    "                )\n",
    "            )\n",
    "            dot_dice[3].move_to(\n",
    "                0.5\n",
    "                * (\n",
    "                    dice_shape.get_center()\n",
    "                    + dice_shape.get_left()\n",
    "                    + dice_shape.get_bottom()\n",
    "                )\n",
    "            )\n",
    "            dot_dice[4].move_to(\n",
    "                0.5\n",
    "                * (\n",
    "                    dice_shape.get_center()\n",
    "                    + dice_shape.get_right()\n",
    "                    + dice_shape.get_bottom()\n",
    "                )\n",
    "            )\n",
    "        case _:\n",
    "            dot_dice[0].move_to(\n",
    "                0.5\n",
    "                * (\n",
    "                    dice_shape.get_center()\n",
    "                    + dice_shape.get_left()\n",
    "                    + dice_shape.get_top()\n",
    "                )\n",
    "            )\n",
    "            dot_dice[1].move_to(0.5 * (dice_shape.get_center() + dice_shape.get_left()))\n",
    "            dot_dice[2].move_to(\n",
    "                0.5\n",
    "                * (\n",
    "                    dice_shape.get_center()\n",
    "                    + dice_shape.get_left()\n",
    "                    + dice_shape.get_bottom()\n",
    "                )\n",
    "            )\n",
    "            dot_dice[3].move_to(\n",
    "                0.5\n",
    "                * (\n",
    "                    dice_shape.get_center()\n",
    "                    + dice_shape.get_right()\n",
    "                    + dice_shape.get_top()\n",
    "                )\n",
    "            )\n",
    "            dot_dice[4].move_to(\n",
    "                0.5 * (dice_shape.get_center() + dice_shape.get_right())\n",
    "            )\n",
    "            dot_dice[5].move_to(\n",
    "                0.5\n",
    "                * (\n",
    "                    dice_shape.get_center()\n",
    "                    + dice_shape.get_right()\n",
    "                    + dice_shape.get_bottom()\n",
    "                )\n",
    "            )\n",
    "\n",
    "    return dice\n",
    "\n"
   ]
  },
  {
   "cell_type": "code",
   "execution_count": 5,
   "metadata": {},
   "outputs": [
    {
     "name": "stderr",
     "output_type": "stream",
     "text": [
      "                                                                                                            \r"
     ]
    },
    {
     "data": {
      "text/html": [
       "<video src=\"media\\jupyter\\DiceRoll@2023-11-14@07-43-24.mp4\" controls autoplay loop style=\"max-width: 70%;\"  >\n",
       "      Your browser does not support the <code>video</code> element.\n",
       "    </video>"
      ],
      "text/plain": [
       "<IPython.core.display.Video object>"
      ]
     },
     "metadata": {},
     "output_type": "display_data"
    }
   ],
   "source": [
    "%%manim -qm DiceRoll \n",
    "\n",
    "\n",
    "class DiceRoll(Scene):\n",
    "    def construct(self):\n",
    "        np.random.seed(0)\n",
    "        count_dice = 14\n",
    "        count_roll = 10**5\n",
    "        distr_roll = []\n",
    "        formula = MathTex(r'Area=\\frac{1}{\\sigma\\sqrt{2\\pi}}e^{-\\frac{1}{2}(\\frac{x-\\mu}{\\sigma})^{2}', color=\"#FFC0CB\",font_size=58)\n",
    "        for i in range(count_dice):\n",
    "            roll = np.sum(np.random.randint(1, 7, size=(i + 1, count_roll)), axis=0)\n",
    "            val = np.zeros((i + 1) * 6)\n",
    "            for r in roll:\n",
    "                val[r - 1] += 1\n",
    "\n",
    "            distr_roll.append(val / count_roll)\n",
    "\n",
    "        dice = VGroup(\n",
    "            *[\n",
    "                create_dice(np.random.randint(1, 7), 0.75, 0.2)\n",
    "                for _ in range(count_dice)\n",
    "            ]\n",
    "        ).arrange(RIGHT, buff=0.2)\n",
    "        hist = BarChart(\n",
    "            distr_roll[0],\n",
    "            bar_names=[f\"{i}\" for i in range(1, 7)],\n",
    "            bar_colors=[\"#FFC0CB\" for _ in range(6)],\n",
    "        ).scale(0.85)\n",
    "        VGroup(hist, dice).arrange(DOWN, buff=1)\n",
    "\n",
    "        self.play(GrowFromPoint(dice[0], [dice[0].get_bottom()[0], -5, 0]))\n",
    "        self.play(DrawBorderThenFill(hist[0:2]))\n",
    "\n",
    "        for k in range(1, count_dice):\n",
    "            new_hist = (\n",
    "                BarChart(\n",
    "                    distr_roll[k],\n",
    "                    bar_names=[f\"{i}\" for i in range(1, k * 6 + 7)],\n",
    "                    bar_colors=[\"#FFC0CB\" for _ in range(k * 6)],\n",
    "                )\n",
    "                .move_to(hist.get_center())\n",
    "                .scale(0.85)\n",
    "            )\n",
    "\n",
    "            self.play(\n",
    "                GrowFromPoint(dice[k], [dice[k].get_bottom()[0], -5, 0]), run_time=0.75\n",
    "            )\n",
    "            self.play(ReplacementTransform(hist[0:2], new_hist[0:2]), run_time=0.75)\n",
    "            hist = new_hist\n",
    "\n",
    "        mean = 3.5 * count_dice\n",
    "        std = (count_dice * 35 / 12) ** 0.5\n",
    "        func = lambda t: np.exp(-0.5 * ((t - mean) / std) ** 2) / (\n",
    "            std * (2 * np.pi) ** 0.5\n",
    "        )\n",
    "        \n",
    "        formula.to_edge(LEFT+UP,buff=1)\n",
    "\n",
    "        func = hist.plot(func, x_range=[0, 6 * (count_dice)], color=\"#2986CC\")\n",
    "        area = hist.get_area(func, opacity=0.5)\n",
    "        self.play(Create(func), Write(formula), run_time=2, rate_func=rate_functions.ease_in_out_sine)\n",
    "        #self.play(Write(formula))\n",
    "        #self.remove(func)\n",
    "        self.play(FadeIn(area))\n",
    "\n",
    "        self.wait(1)"
   ]
  },
  {
   "cell_type": "code",
   "execution_count": null,
   "metadata": {},
   "outputs": [],
   "source": []
  }
 ],
 "metadata": {
  "kernelspec": {
   "display_name": "manim",
   "language": "python",
   "name": "python3"
  },
  "language_info": {
   "codemirror_mode": {
    "name": "ipython",
    "version": 3
   },
   "file_extension": ".py",
   "mimetype": "text/x-python",
   "name": "python",
   "nbconvert_exporter": "python",
   "pygments_lexer": "ipython3",
   "version": "3.11.4"
  }
 },
 "nbformat": 4,
 "nbformat_minor": 2
}
